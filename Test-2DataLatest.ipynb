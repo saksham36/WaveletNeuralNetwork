{
 "cells": [
  {
   "cell_type": "markdown",
   "metadata": {},
   "source": [
    "# Classification of EEG Signal when Subject in Cognitive Load and Relaxed"
   ]
  },
  {
   "cell_type": "code",
   "execution_count": 5,
   "metadata": {},
   "outputs": [],
   "source": [
    "import sys\n",
    "import pandas as pd\n",
    "import numpy as np\n",
    "import math\n",
    "\n",
    "from sklearn.preprocessing import StandardScaler\n",
    "from sklearn import svm, metrics, preprocessing\n",
    "from sklearn.model_selection import train_test_split, cross_val_score\n",
    "\n",
    "from scipy import signal\n",
    "from scipy.fftpack import fft\n",
    "from matplotlib import pyplot as plt\n",
    "# from mpl_toolkits.mplot3d import Axes3D0\n",
    "# import ipyvolume as ipv\n",
    "import seaborn as sns\n",
    "\n",
    "from sklearn.model_selection import GridSearchCV\n",
    "from sklearn.model_selection import RandomizedSearchCV\n",
    "from sklearn.metrics import classification_report\n",
    "from sklearn.metrics import accuracy_score, log_loss\n",
    "from scipy.stats import expon\n",
    "\n",
    "from sklearn.svm import LinearSVC\n",
    "from sklearn.svm import SVC\n",
    "from sklearn import decomposition\n",
    "\n",
    "from sklearn.preprocessing import LabelEncoder\n",
    "from sklearn.model_selection import StratifiedShuffleSplit\n",
    "import random\n",
    "\n",
    "import warnings\n",
    "warnings.simplefilter('ignore')\n",
    "import pywt"
   ]
  },
  {
   "cell_type": "code",
   "execution_count": 6,
   "metadata": {},
   "outputs": [],
   "source": [
    "# Necessary\n",
    "from functions import entropy, beta\n",
    "# from functions import autoregress\n",
    "# For Visualization\n",
    "from functions import make_meshgrid,plot_contours\n",
    "\n"
   ]
  },
  {
   "cell_type": "markdown",
   "metadata": {},
   "source": [
    "## Filter Visualization"
   ]
  },
  {
   "cell_type": "code",
   "execution_count": 9,
   "metadata": {},
   "outputs": [
    {
     "name": "stdout",
     "output_type": "stream",
     "text": [
      "[ 0.99479124 -1.89220538  0.99479124] [ 1.         -1.89220538  0.98958248]\n"
     ]
    },
    {
     "data": {
      "image/png": "[encoded data removed]",
      "text/plain": [
       "<Figure size 432x288 with 2 Axes>"
      ]
     },
     "metadata": {
      "needs_background": "light"
     },
     "output_type": "display_data"
    },
    {
     "name": "stdout",
     "output_type": "stream",
     "text": [
      "Wavelet db4\n",
      "  Family name:    Daubechies\n",
      "  Short name:     db\n",
      "  Filters length: 8\n",
      "  Orthogonal:     True\n",
      "  Biorthogonal:   True\n",
      "  Symmetry:       asymmetric\n",
      "  DWT:            True\n",
      "  CWT:            False\n"
     ]
    }
   ],
   "source": [
    "sampling_frequency = 1000 # Hz\n",
    "channelAccuracies = {}\n",
    "\n",
    "f0 = 50/500 # Frequency to be removed from signal (Hz) It has to be divided by Nyquist Frequency!\n",
    "Q = 30.0  # Quality factor\n",
    "# Design notch filter\n",
    "b, a = signal.iirnotch(f0, Q)\n",
    "print(b,a)\n",
    "w, h = signal.freqz(b,a)\n",
    "w = (w*500)/math.pi\n",
    "fig = plt.figure()\n",
    "plt.title('Digital filter frequency response')\n",
    "ax1 = fig.add_subplot(111)\n",
    "plt.plot(w, 20 * np.log10(abs(h)), 'b')\n",
    "plt.ylabel('Amplitude [dB]', color='b')\n",
    "plt.xlabel('Frequency')\n",
    "ax2 = ax1.twinx()\n",
    "angles = np.unwrap(np.angle(h))\n",
    "plt.plot(w, angles, 'g')\n",
    "plt.ylabel('Angle (radians)', color='g')\n",
    "plt.grid()\n",
    "plt.axis('tight')\n",
    "plt.show()\n",
    "fig.savefig('filter.eps')\n",
    "w = pywt.Wavelet('db4')\n",
    "print(w)"
   ]
  },
  {
   "cell_type": "code",
   "execution_count": 4,
   "metadata": {},
   "outputs": [
    {
     "data": {
      "text/plain": [
       "12.818497237869009"
      ]
     },
     "execution_count": 4,
     "metadata": {},
     "output_type": "execute_result"
    }
   ],
   "source": [
    "max(abs(20 * np.log10(abs(h))))"
   ]
  },
  {
   "cell_type": "markdown",
   "metadata": {},
   "source": [
    "### Set needs to be segregated to train and test data without any processing"
   ]
  },
  {
   "cell_type": "code",
   "execution_count": 5,
   "metadata": {},
   "outputs": [
    {
     "name": "stdout",
     "output_type": "stream",
     "text": [
      "(101, 1)\n",
      "Number of Class 1: 51\n",
      "Number of Class 2: 50\n",
      "(103, 1)\n",
      "Number of Class 1: 51\n",
      "Number of Class 2: 52\n",
      "(93, 1)\n",
      "Number of Class 1: 46\n",
      "Number of Class 2: 47\n",
      "(99, 1)\n",
      "Number of Class 1: 49\n",
      "Number of Class 2: 50\n",
      "(396, 1)\n",
      "Number of Class 1: 197\n",
      "Number of Class 2: 199\n"
     ]
    }
   ],
   "source": [
    "np.random.seed(0)\n",
    "\n",
    "y_1 = pd.read_csv(\"./Data/Sree/target.csv\", header=None)\n",
    "y_1 = np.array(y_1)\n",
    "# print(y_1.shape)\n",
    "# y_1 = np.concatenate((y_1,y_1,y_1,y_1,y_1,y_1,y_1,y_1,y_1,y_1,y_1,y_1),axis=1)\n",
    "y_1 = np.reshape(y_1,((y_1.size),1))\n",
    "print(y_1.shape)\n",
    "print(\"Number of Class 1: {}\".format((y_1==1).sum()))\n",
    "print(\"Number of Class 2: {}\".format((y_1==2).sum()))\n",
    "\n",
    "y_2 = pd.read_csv(\"./Data/Saksham/target.csv\", header=None)\n",
    "y_2 = np.array(y_2)\n",
    "# print(y_2.shape)\n",
    "# y_2 = np.concatenate((y_2,y_2,y_2,y_2,y_2,y_2,y_2,y_2,y_2,y_2,y_2,y_2),axis=1)\n",
    "y_2 = np.reshape(y_2,((y_2.size),1))\n",
    "print(y_2.shape)\n",
    "print(\"Number of Class 1: {}\".format((y_2==1).sum()))\n",
    "print(\"Number of Class 2: {}\".format((y_2==2).sum()))\n",
    "\n",
    "# y_3 = pd.read_csv(\"./Data/Aditya/target.csv\", header=None)\n",
    "# y_3 = np.array(y_3)\n",
    "# # print(y_3.shape)\n",
    "# # y_3 = np.concatenate((y_3,y_3,y_3,y_3,y_3,y_3,y_3,y_3,y_3,y_3,y_3,y_3),axis=1)\n",
    "# y_3 = np.reshape(y_3,((y_3.size),1))\n",
    "# print(y_3.shape)\n",
    "# print(\"Number of Class 1: {}\".format((y_3==1).sum()))\n",
    "# print(\"Number of Class 2: {}\".format((y_3==2).sum()))\n",
    "\n",
    "y_4 = pd.read_csv(\"./Data/Himanshu/target.csv\", header=None)\n",
    "y_4 = np.array(y_4)\n",
    "# print(y_4.shape)\n",
    "# y_4 = np.concatenate((y_4,y_4,y_4,y_4,y_4,y_4,y_4,y_4,y_4,y_4,y_4,y_4),axis=1)\n",
    "y_4 = np.reshape(y_4,((y_4.size),1))\n",
    "print(y_4.shape)\n",
    "print(\"Number of Class 1: {}\".format((y_4==1).sum()))\n",
    "print(\"Number of Class 2: {}\".format((y_4==2).sum()))\n",
    "\n",
    "y_5 = pd.read_csv(\"./Data/Satyam/target.csv\", header=None)\n",
    "y_5 = np.array(y_5)\n",
    "# print(y_5.shape)\n",
    "# y_5 = np.concatenate((y_5,y_5,y_5,y_5,y_5,y_5,y_5,y_5,y_5,y_5,y_5,y_5),axis=1)\n",
    "y_5 = np.reshape(y_5,((y_5.size),1))\n",
    "print(y_5.shape)\n",
    "print(\"Number of Class 1: {}\".format((y_5==1).sum()))\n",
    "print(\"Number of Class 2: {}\".format((y_5==2).sum()))\n",
    "\n",
    "# y_6 = pd.read_csv(\"./Data/Vikas/target.csv\", header=None)\n",
    "# y_6 = np.array(y_6)\n",
    "# # print(y_6.shape)\n",
    "# # y_6 = np.concatenate((y_6,y_6,y_6,y_6,y_6,y_6,y_6,y_6,y_6,y_6,y_6,y_6),axis=1)\n",
    "# y_6 = np.reshape(y_6,((y_6.size),1))\n",
    "# print(y_6.shape)\n",
    "# print(\"Number of Class 1: {}\".format((y_6==1).sum()))\n",
    "# print(\"Number of Class 2: {}\".format((y_6==2).sum()))\n",
    "\n",
    "y = np.concatenate((y_1,y_2,y_4,y_5))\n",
    "print(y.shape)\n",
    "print(\"Number of Class 1: {}\".format((y==1).sum()))\n",
    "print(\"Number of Class 2: {}\".format((y==2).sum()))\n",
    "\n",
    "\n",
    "# Just Saksham Data\n",
    "# y_2 = pd.read_csv(\"./Data/Saksham/target.csv\", header=None)\n",
    "# y_2 = np.array(y_2)\n",
    "# print(y_2.shape)\n",
    "# y_2 = np.concatenate((y_2,y_2,y_2,y_2,y_2,y_2,y_2,y_2,y_2,y_2,y_2,y_2),axis=1)\n",
    "# y_2 = np.reshape(y_2,((y_2.size),1))\n",
    "# print(y_2.shape)\n",
    "# print(\"Number of Class 1: {}\".format((y_2==1).sum()))\n",
    "# print(\"Number of Class 2: {}\".format((y_2==2).sum()))\n",
    "# y = y_2\n",
    "\n",
    "# y = pd.read_csv(\"./Data/Saksham/target.csv\", header=None)\n",
    "# y = np.array(y)\n",
    "# print(y.shape)\n",
    "# print(\"Number of Class 1: {}\".format((y==1).sum()))\n",
    "# print(\"Number of Class 2: {}\".format((y==2).sum()))"
   ]
  },
  {
   "cell_type": "markdown",
   "metadata": {},
   "source": [
    "#### Breaking into Test and Train. From this point onwards, Test data will not be touched till the end."
   ]
  },
  {
   "cell_type": "code",
   "execution_count": 6,
   "metadata": {},
   "outputs": [
    {
     "data": {
      "text/plain": [
       "63"
      ]
     },
     "execution_count": 6,
     "metadata": {},
     "output_type": "execute_result"
    }
   ],
   "source": [
    "len(list(range(63)))"
   ]
  },
  {
   "cell_type": "code",
   "execution_count": 7,
   "metadata": {
    "scrolled": true
   },
   "outputs": [
    {
     "name": "stdout",
     "output_type": "stream",
     "text": [
      "(101, 2, 9996)\n",
      "(103, 2, 9996)\n",
      "(93, 2, 9996)\n",
      "(99, 2, 9996)\n",
      "(396, 2, 9996)\n"
     ]
    }
   ],
   "source": [
    "channels = [17,49]\n",
    "allData_1 = np.zeros((101,2,833*12)) # 101*12 data intervals, 63 channels, 9.996/12 seconds\n",
    "for index,channelNumber in enumerate(channels):\n",
    "    x = pd.read_csv(\"./Data/Sree/channel_{}.csv\".format(channelNumber+1), header=None)\n",
    "    x = np.array(x)\n",
    "    x = np.transpose(x)\n",
    "    allData_1[:,index,:] =x\n",
    "#     for i in range(0,101):\n",
    "# #         allData_1[i,index,:] =x\n",
    "#         for k in range(0,12):\n",
    "#             allData_1[12*i+k,index,:] = x[i,833*k:833*(k+1)]\n",
    "\n",
    "allData_2 = np.zeros((103,2,833*12)) # 101*12 data intervals, 63 channels, 9.996/12 seconds\n",
    "for index,channelNumber in enumerate(channels):\n",
    "    x = pd.read_csv(\"./Data/Saksham/channel_{}.csv\".format(channelNumber+1), header=None)\n",
    "    x = np.array(x)\n",
    "    x = np.transpose(x)\n",
    "    allData_2[:,index,:] =x\n",
    "#     for i in range(0,103):\n",
    "# #         allData_2[i,index,:] =x\n",
    "#         for k in range(0,12):\n",
    "#             allData_2[12*i+k,index,:] = x[i,833*k:833*(k+1)]\n",
    "            \n",
    "# allData_3 = np.zeros((103,2,12*833)) # 101*12 data intervals, 63 channels, 9.996/12 seconds\n",
    "# for index,channelNumber in enumerate(channels):\n",
    "#     x = pd.read_csv(\"./Data/Aditya/channel_{}.csv\".format(channelNumber+1), header=None)\n",
    "#     x = np.array(x)\n",
    "#     x = np.transpose(x)\n",
    "#     allData_3[:,index,:] =x\n",
    "# #     for i in range(0,102):\n",
    "# #         allData_3[i,index,:] =x\n",
    "# #         for k in range(0,12):\n",
    "# #             allData_3[12*i+k,index,:] = x[i,833*k:833*(k+1)]\n",
    "\n",
    "allData_4 = np.zeros((93,2,833*12)) # 101*12 data intervals, 63 channels, 9.996/12 seconds\n",
    "for index,channelNumber in enumerate(channels):\n",
    "    x = pd.read_csv(\"./Data/Himanshu/channel_{}.csv\".format(channelNumber+1), header=None)\n",
    "    x = np.array(x)\n",
    "    x = np.transpose(x)\n",
    "    allData_4[:,index,:] =x\n",
    "#     for i in range(0,93):\n",
    "# #         allData_4[i,index,:] =x\n",
    "#         for k in range(0,12):\n",
    "#             allData_4[12*i+k,index,:] = x[i,833*k:833*(k+1)]\n",
    "            \n",
    "allData_5 = np.zeros((99,2,833*12)) # 101*12 data intervals, 63 channels, 9.996/12 seconds\n",
    "for index,channelNumber in enumerate(channels):\n",
    "    x = pd.read_csv(\"./Data/Satyam/channel_{}.csv\".format(channelNumber+1), header=None)\n",
    "    x = np.array(x)\n",
    "    x = np.transpose(x)\n",
    "    allData_5[:,index,:] =x\n",
    "#     for i in range(0,99):\n",
    "# #         allData_5[i,index,:] =x\n",
    "#         for k in range(0,12):\n",
    "#             allData_5[12*i+k,index,:] = x[i,833*k:833*(k+1)]  \n",
    "\n",
    "# allData_6 = np.zeros((101,2,12*833)) # 101*12 data intervals, 63 channels, 9.996/12 seconds\n",
    "# for index,channelNumber in enumerate(channels):\n",
    "#     x = pd.read_csv(\"./Data/Vikas/channel_{}.csv\".format(channelNumber+1), header=None)\n",
    "#     x = np.array(x)\n",
    "#     x = np.transpose(x)\n",
    "#     allData_6[:,index,:] =x\n",
    "# #     for i in range(0,101):\n",
    "# #         for k in range(0,12):\n",
    "# #             allData_6[12*i+k,index,:] = x[i,833*k:833*(k+1)]\n",
    "            \n",
    "print(allData_1.shape)\n",
    "print(allData_2.shape)\n",
    "# print(allData_3.shape)\n",
    "print(allData_4.shape)           \n",
    "print(allData_5.shape)\n",
    "# print(allData_6.shape)\n",
    "allData = np.concatenate((allData_1,allData_2,allData_4,allData_5))\n",
    "print(allData.shape)\n",
    "\n",
    "# Just Saksham Data\n",
    "\n",
    "# allData = np.zeros((32,63,833*12)) # 101*12 data intervals, 63 channels, 9.996/12 seconds\n",
    "# for channelNumber in range(1, 64):\n",
    "#     x = pd.read_csv(\"./Data/Saksham/channel_{}.csv\".format(channelNumber), header=None)\n",
    "#     x = np.array(x)\n",
    "#     x = np.transpose(x)\n",
    "#     allData[:,channelNumber-1,:] = x\n",
    "# print(allData.shape)"
   ]
  },
  {
   "cell_type": "code",
   "execution_count": 70,
   "metadata": {},
   "outputs": [],
   "source": [
    "# ONLY ONE SUBJECT AT A TIME\n",
    "x_train, x_test, y_train, y_test = train_test_split(allData_5, y_5, test_size = 0.3, random_state = 0) #Random state == seed\n"
   ]
  },
  {
   "cell_type": "code",
   "execution_count": 71,
   "metadata": {},
   "outputs": [
    {
     "name": "stdout",
     "output_type": "stream",
     "text": [
      "(69, 2, 9996)\n",
      "(69, 1)\n",
      "(30, 2, 9996)\n",
      "(30, 1)\n"
     ]
    }
   ],
   "source": [
    "print(x_train.shape)\n",
    "print(y_train.shape)\n",
    "print(x_test.shape)\n",
    "print(y_test.shape)"
   ]
  },
  {
   "cell_type": "markdown",
   "metadata": {},
   "source": [
    "#### Saving into Files"
   ]
  },
  {
   "cell_type": "code",
   "execution_count": 72,
   "metadata": {},
   "outputs": [],
   "source": [
    "# import csv\n",
    "# for channelNumber in range(1,64):\n",
    "#     filename = './Data/Train/x_train_channel_'+str(channelNumber)+'.csv'\n",
    "#     with open(filename, 'w') as csvFile:\n",
    "#         writer = csv.writer(csvFile)\n",
    "#         writer.writerows(x_train[:,channelNumber-1,:])\n",
    "#     csvFile.close()\n",
    "    \n",
    "\n",
    "# filename = './Data/Train/y_train.csv'\n",
    "# with open(filename, 'w') as csvFile:\n",
    "#     writer = csv.writer(csvFile)\n",
    "#     writer.writerows(y_train)\n",
    "# csvFile.close()\n",
    "\n",
    "\n",
    "# for channelNumber in range(1,64):\n",
    "#     filename = './Data/Test/x_test_channel_'+str(channelNumber)+'.csv'\n",
    "#     with open(filename, 'w') as csvFile:\n",
    "#         writer = csv.writer(csvFile)\n",
    "#         writer.writerows(x_test[:,channelNumber-1,:])\n",
    "#     csvFile.close()\n",
    "\n",
    "# filename = './Data/Test/y_test.csv'\n",
    "# with open(filename, 'w') as csvFile:\n",
    "#     writer = csv.writer(csvFile)\n",
    "#     writer.writerows(y_test)\n",
    "# csvFile.close()"
   ]
  },
  {
   "cell_type": "code",
   "execution_count": 73,
   "metadata": {},
   "outputs": [],
   "source": [
    "# # x_train[0,0,:]\n",
    "# print(x_train.shape)\n",
    "# print(x_test.shape)"
   ]
  },
  {
   "cell_type": "markdown",
   "metadata": {},
   "source": [
    "### Preprocessing the train data"
   ]
  },
  {
   "cell_type": "markdown",
   "metadata": {},
   "source": [
    "##### Wavelet Decomposition and Reconstruction of Beta"
   ]
  },
  {
   "cell_type": "code",
   "execution_count": 74,
   "metadata": {},
   "outputs": [
    {
     "name": "stdout",
     "output_type": "stream",
     "text": [
      "(69, 2, 9996)\n",
      "(69, 2, 9996)\n"
     ]
    }
   ],
   "source": [
    "x_train = signal.filtfilt(b,a,x_train,axis=2)\n",
    "print(x_train.shape)\n",
    "x_t = np.zeros((x_train.shape))\n",
    "for index,channelNumber in enumerate(channels):\n",
    "    x_t[:,index,:] = beta(x_train[:,index,:],w)\n",
    "print(x_t.shape)"
   ]
  },
  {
   "cell_type": "code",
   "execution_count": 75,
   "metadata": {},
   "outputs": [],
   "source": [
    "# x_train[0,0,:]"
   ]
  },
  {
   "cell_type": "code",
   "execution_count": 76,
   "metadata": {},
   "outputs": [],
   "source": [
    "# x_t[0,0,:]"
   ]
  },
  {
   "cell_type": "code",
   "execution_count": 77,
   "metadata": {},
   "outputs": [],
   "source": [
    "scalers = []\n",
    "scaledx_train = np.zeros(np.shape(x_t))\n",
    "for index,channelNumber in enumerate(channels):\n",
    "    scaler= preprocessing.StandardScaler().fit(x_t[:, index, :]) #Norm -> mean=0, var=1\n",
    "    scalers.append(scaler)\n",
    "    scaledx_train[:, index, :] = scalers[index].transform(x_t[:, index, :])\n",
    " \n"
   ]
  },
  {
   "cell_type": "code",
   "execution_count": 78,
   "metadata": {},
   "outputs": [],
   "source": [
    "# scaledx_train[0,0,1:10]"
   ]
  },
  {
   "cell_type": "markdown",
   "metadata": {},
   "source": [
    "#### Feature selected == Entropy"
   ]
  },
  {
   "cell_type": "code",
   "execution_count": 79,
   "metadata": {},
   "outputs": [],
   "source": [
    "bins = np.zeros((2,256))\n",
    "max_lim = np.zeros(2)\n",
    "min_lim = np.zeros(2)\n",
    "for i,channelNumber in enumerate(channels):\n",
    "    max_lim = scaledx_train[:,i,:].max()\n",
    "#     print(max_lim)\n",
    "    min_lim = scaledx_train[:,i,:].min()\n",
    "#     print(min_lim)\n",
    "    bins[i,:] = np.linspace(min_lim,max_lim, 256)\n",
    "\n",
    "scaledx_train2 = np.zeros([scaledx_train.shape[0],2])\n",
    "for i in range(scaledx_train.shape[0]):\n",
    "    for j,channelNumber in enumerate(channels):\n",
    "        inds = np.digitize(scaledx_train[i,j,:], bins[j,:])\n",
    "#         print((inds==0).any())\n",
    "        ent = entropy(inds)\n",
    "        scaledx_train2[i,j] = ent"
   ]
  },
  {
   "cell_type": "markdown",
   "metadata": {},
   "source": [
    "### Validating that data interval is representative"
   ]
  },
  {
   "cell_type": "code",
   "execution_count": null,
   "metadata": {},
   "outputs": [],
   "source": [
    "# Check with more subjects\n",
    "# Try to get higher accu.\n",
    "# Try other feat"
   ]
  },
  {
   "cell_type": "code",
   "execution_count": null,
   "metadata": {},
   "outputs": [],
   "source": [
    "# import os\n",
    "# path = os.listdir('./Data/')"
   ]
  },
  {
   "cell_type": "code",
   "execution_count": null,
   "metadata": {},
   "outputs": [],
   "source": [
    "# name = 1\n",
    "# channelNumber=1\n",
    "\n",
    "# pathname = \"./Data/\"+str(path[name])+\"/channel_\"+str(channelNumber)+\".csv\"\n",
    "# x = pd.read_csv(pathname, header=None)\n",
    "# x = np.array(x)\n",
    "# x = np.transpose(x)\n",
    "# x.shape \n",
    "# # ttttt = np.array(x[:,:32])\n",
    "# # ttttt.shape\n",
    "# # pathname"
   ]
  },
  {
   "cell_type": "code",
   "execution_count": null,
   "metadata": {},
   "outputs": [],
   "source": [
    "# .shape"
   ]
  },
  {
   "cell_type": "code",
   "execution_count": null,
   "metadata": {},
   "outputs": [],
   "source": [
    "# allDataBig = np.zeros((32*6,63,9996))\n",
    "# allData = np.zeros((32*12*6,63,833))\n",
    "# for index,name in enumerate(path):\n",
    "#     for channelNumber in range(1, 64):\n",
    "#         pathname = \"./Data/\"+str(path[index])+\"/channel_\"+str(channelNumber)+\".csv\"\n",
    "#         x = pd.read_csv(pathname, header=None)\n",
    "#         x = np.array(x)\n",
    "#         x = np.transpose(x)\n",
    "#         allDataBig[32*index:32*(index+1),channelNumber-1,:] = np.array(x[:32,:])\n",
    "#         for i in range(0,32):\n",
    "#             for k in range(0,12):\n",
    "#                 allData[12*i+k,channelNumber-1,:] = np.array(x[i,833*k:833*(k+1)])"
   ]
  },
  {
   "cell_type": "code",
   "execution_count": null,
   "metadata": {},
   "outputs": [],
   "source": [
    "# import numpy.matlib\n",
    "# yBig = []\n",
    "# for _,name in enumerate(path):    \n",
    "#     pathname = \"./Data/\"+str(name)+\"/target.csv\"\n",
    "#     yBig_part = pd.read_csv(pathname, header=None)\n",
    "#     yBig_part = np.array(yBig_part)\n",
    "#     yBig.append(yBig_part[:32])\n",
    "\n",
    "# yBig = np.reshape(yBig,(6*32,1))\n",
    "    "
   ]
  },
  {
   "cell_type": "code",
   "execution_count": null,
   "metadata": {},
   "outputs": [],
   "source": [
    "# print(yBig.shape)\n",
    "# print(allDataBig.shape)"
   ]
  },
  {
   "cell_type": "code",
   "execution_count": null,
   "metadata": {},
   "outputs": [],
   "source": [
    "# # p=0.7\n",
    "# # N = allDataBig.shape[0]\n",
    "# # tf = np.zeros((N,1),dtype=bool)\n",
    "# # tf[:round(p*N)] = True;\n",
    "# # Np = np.random.permutation(N)\n",
    "# # tf = tf[Np]\n",
    "# # tf = np.reshape(tf,tf.shape[0])\n",
    "# # x_trainBig = allDataBig[tf,:,:];\n",
    "# # y_trainBig = yBig[tf];\n",
    "# # x_testBig = allDataBig[~tf,:,:];\n",
    "# # y_testBig = yBig[~tf];\n",
    "\n",
    "# x_trainBig = allDataBig\n",
    "# y_trainBig =yBig\n",
    "\n",
    "# x_trainSmall = np.zeros((x_trainBig.shape[0]*12,x_trainBig.shape[1],int(x_trainBig.shape[2]/12)))\n",
    "# y_trainSmall = np.zeros(y_trainBig.shape[0]*12)\n",
    "# # x_testSmall = np.zeros((x_testBig.shape[0]*12,x_testBig.shape[1],int(x_testBig.shape[2]/12)))\n",
    "# # y_testSmall = np.zeros(y_testBig.shape[0]*12)\n",
    "\n",
    "\n",
    "# for i in range(x_trainBig.shape[0]):\n",
    "#     for k in range(0,12):\n",
    "#         x_trainSmall[12*i+k,:,:] = x_trainBig[i,:,833*k:833*(k+1)]\n",
    "#         y_trainSmall[i:i+12] = np.resize(np.matlib.repmat(y_trainBig[0],12,1),12)\n",
    "    "
   ]
  },
  {
   "cell_type": "code",
   "execution_count": null,
   "metadata": {},
   "outputs": [],
   "source": [
    "# print(x_trainBig.shape)\n",
    "# print(y_trainBig.shape)\n",
    "# print(x_trainSmall.shape)\n",
    "# print(y_trainSmall.shape)"
   ]
  },
  {
   "cell_type": "code",
   "execution_count": null,
   "metadata": {},
   "outputs": [],
   "source": [
    "# print(x_trainBig.shape)\n",
    "# x_trainBig = signal.filtfilt(b,a,x_trainBig,axis=2)\n",
    "# print(x_trainBig.shape)\n",
    "# x_tBig = np.zeros((x_trainBig.shape))\n",
    "# print(x_tBig.shape)\n",
    "# print(x_trainBig[:,channelNumber-1,:].shape)\n",
    "# for channelNumber in range(1, 63):\n",
    "#     x_tBig[:,channelNumber-1,:] = beta(x_trainBig[:,channelNumber-1,:],w)\n",
    "# print(x_tBig.shape)\n",
    "\n",
    "# print(x_trainSmall.shape)\n",
    "# x_trainSmall = signal.filtfilt(b,a,x_trainSmall,axis=2)\n",
    "# print(x_trainSmall.shape)\n",
    "# x_tSmall = np.zeros((x_trainSmall.shape))\n",
    "# print(x_tSmall.shape)\n",
    "# print(x_trainSmall[:,channelNumber-1,:].shape)\n",
    "# for channelNumber in range(1, 64):\n",
    "#     x_tSmall[:,channelNumber-1,:] = beta(x_trainSmall[:,channelNumber-1,:],w)\n",
    "# print(x_tSmall.shape)\n",
    "\n",
    "# scalersBig = []\n",
    "# scaledx_trainBig = np.zeros(np.shape(x_tBig))\n",
    "# for channelNumber in range(1, 64):\n",
    "#     scaler= preprocessing.StandardScaler().fit(x_tBig[:, channelNumber-1, :]) #Norm -> mean=0, var=1\n",
    "#     scalersBig.append(scaler)\n",
    "#     scaledx_trainBig[:, channelNumber-1, :] = scalersBig[channelNumber-1].transform(x_tBig[:, channelNumber-1, :])\n",
    " \n",
    "# scalersSmall = []\n",
    "# scaledx_trainSmall = np.zeros(np.shape(x_tSmall))\n",
    "# for channelNumber in range(1, 64):\n",
    "#     scaler= preprocessing.StandardScaler().fit(x_tSmall[:, channelNumber-1, :]) #Norm -> mean=0, var=1\n",
    "#     scalersSmall.append(scaler)\n",
    "#     scaledx_trainSmall[:, channelNumber-1, :] = scalersSmall[channelNumber-1].transform(x_tSmall[:, channelNumber-1, :])\n",
    " \n",
    "# binsBig = np.zeros((63,256))\n",
    "# max_limBig = np.zeros(63)\n",
    "# min_limBig = np.zeros(63)\n",
    "# for i in range(40):\n",
    "#     max_limBig = scaledx_trainBig[:,i,:].max()\n",
    "#     min_limBig = scaledx_trainBig[:,i,:].min()\n",
    "#     binsBig[i,:] = np.linspace(min_limBig,max_limBig, 256)\n",
    "\n",
    "# scaledx_train2Big = np.zeros([scaledx_trainBig.shape[0],63])\n",
    "# for i in range(scaledx_trainBig.shape[0]):\n",
    "#     for j in range(63):\n",
    "#         inds = np.digitize(scaledx_trainBig[i,j,:], binsBig[j,:])\n",
    "#         ent = entropy(inds)\n",
    "#         scaledx_train2Big[i,j] = ent\n",
    "\n",
    "# binsSmall = np.zeros((63,256))\n",
    "# max_limSmall = np.zeros(63)\n",
    "# min_limSmall = np.zeros(63)\n",
    "# for i in range(63):\n",
    "#     max_limSmall = scaledx_trainSmall[:,i,:].max()\n",
    "#     min_limSmall = scaledx_trainSmall[:,i,:].min()\n",
    "#     binsSmall[i,:] = np.linspace(min_limSmall,max_limSmall, 256)\n",
    "\n",
    "# scaledx_train2Small = np.zeros([scaledx_trainSmall.shape[0],63])\n",
    "# for i in range(scaledx_trainSmall.shape[0]):\n",
    "#     for j in range(63):\n",
    "#         inds = np.digitize(scaledx_trainSmall[i,j,:], binsSmall[j,:])\n",
    "#         ent = entropy(inds)\n",
    "#         scaledx_train2Small[i,j] = ent"
   ]
  },
  {
   "cell_type": "code",
   "execution_count": null,
   "metadata": {},
   "outputs": [],
   "source": [
    "# # ChannelList = list([14,15,16,17,18,19,45,46,47,48,49,50,51,52])\n",
    "# ChannelList = list([17,49])\n",
    "\n",
    "# for _,channel in enumerate(ChannelList):\n",
    "#     print(channel)"
   ]
  },
  {
   "cell_type": "code",
   "execution_count": null,
   "metadata": {},
   "outputs": [],
   "source": [
    "# scaledx_train2Big.shape\n",
    "# # for _,name in enumerate(path):\n",
    "# #     print(name)"
   ]
  },
  {
   "cell_type": "code",
   "execution_count": null,
   "metadata": {},
   "outputs": [],
   "source": [
    "# for _,channel in enumerate(ChannelList):\n",
    "#     for index,name in enumerate(path):\n",
    "#         print('\\n******* Subject {} Channel {}*******\\n'.format(name,channel))\n",
    "#         fig, (ax0,ax1) = plt.subplots(nrows=2)\n",
    "#         # For 1 Channel, 126 samples. Lets see the diff\n",
    "#         s_tBig = scaledx_train2Big[index*32:32*(index+1),:]\n",
    "#         print(s_tBig.shape)\n",
    "#         s_tSmall = scaledx_train2Small[index*32*12:12*32*(index+1),:]\n",
    "#         print(s_tSmall.shape)\n",
    "\n",
    "#         lower_error = np.zeros(int(s_tBig.shape[0]))   \n",
    "#         upper_error = np.zeros(int(s_tBig.shape[0]))\n",
    "#         for i in range(int(s_tBig.shape[0])):\n",
    "#             s1 = s_tSmall[12*i,channel] - s_tBig[i,channel]\n",
    "#             s2 = s_tSmall[12*i+1,channel] - s_tBig[i,channel]\n",
    "#             s3 = s_tSmall[12*i+2,channel] - s_tBig[i,channel]\n",
    "#             s4 = s_tSmall[12*i+3,channel] - s_tBig[i,channel]\n",
    "#             s5 = s_tSmall[12*i+4,channel] - s_tBig[i,channel]\n",
    "#             s6 = s_tSmall[12*i+5,channel] - s_tBig[i,channel]\n",
    "#             s7 = s_tSmall[12*i+6,channel] - s_tBig[i,channel]\n",
    "#             s8 = s_tSmall[12*i+7,channel] - s_tBig[i,channel]\n",
    "#             s9 = s_tSmall[12*i+8,channel] - s_tBig[i,channel]\n",
    "#             s10 = s_tSmall[12*i+9,channel] - s_tBig[i,channel]\n",
    "#             s11 = s_tSmall[12*i+10,channel] - s_tBig[i,channel]\n",
    "#             s12 = s_tSmall[12*i+11,channel] - s_tBig[i,channel]\n",
    "#             lower_error[i] = np.array([s1,s2,s3,s4,s5,s6,s7,s8,s9,s10,s11,s12]).min()\n",
    "#             upper_error[i] = np.array([s1,s2,s3,s4,s5,s6,s7,s8,s9,s10,s11,s12]).max()\n",
    "#         #     print('Mean {}, Low {} Upp {} S {}'.format(scaledx_train2Big[i,0],lower_error[i],\n",
    "#         #                                                upper_error[i],[s1,s2,s3,s4,s5,s6,s7,s8,s9,s10,s11,s12]))\n",
    "#         print(lower_error.shape)\n",
    "#         print(upper_error.shape)\n",
    "#         asymmetric_error = [lower_error, upper_error]\n",
    "        \n",
    "#         ax0.errorbar(list(range(int(s_tBig.shape[0]))), s_tBig[:,channel], \n",
    "#                      yerr=asymmetric_error, fmt='o')\n",
    "#         # ax0.set_yscale('log')\n",
    "\n",
    "#         xt = np.array(list(range(int(s_tBig.shape[0]))))\n",
    "#         xt = np.reshape(xt,(32,1))\n",
    "#         xt = np.concatenate((xt,xt,xt,xt,xt,xt,xt,xt,xt,xt,xt,xt),axis=1)\n",
    "#         xt = np.reshape(xt,((xt.size),1))\n",
    "#         yt = []\n",
    "#         yt_m = []\n",
    "#         for i in range(int(s_tBig.shape[0])):\n",
    "#             for k in range(12):\n",
    "#                 yt.append(s_tSmall[12*i+k,channel])\n",
    "#             yt_m.append(np.mean(s_tSmall[12*i:12*(i+1),channel]))\n",
    "\n",
    "#     #     print(np.array(yt).shape, np.array(xt).shape)\n",
    "\n",
    "#         ax1.scatter(xt, yt,s=20, edgecolors='k')\n",
    "#         ax1.scatter(list(range(int(s_tBig.shape[0]))), yt_m,s=20, c='r')\n",
    "#         # ax1.scatter(list(range(int(scaledx_train2Big.shape[0]/3))), scaledx_train2Big[:23,0],s=20, c='y')\n",
    "#         plt.show()\n",
    "#         print('Mean')\n",
    "#         for i in range(int(s_tBig.shape[0])):\n",
    "#             print(yt_m[i])\n",
    "#         print('Big')\n",
    "#         for i in range(int(s_tBig.shape[0])):\n",
    "#             print(s_tBig[i,channel])\n",
    "#         for i in range(int(s_tBig.shape[0])):\n",
    "#             print('Mean {}    Big {}   Diff {}'.format(yt_m[i], s_tBig[i,channel], s_tBig[i,channel]-yt_m[i]))"
   ]
  },
  {
   "cell_type": "code",
   "execution_count": null,
   "metadata": {},
   "outputs": [],
   "source": [
    "# 33+++++++++++++++++++++++++++++++++\n",
    "# ++++print(list(range(43,64)))"
   ]
  },
  {
   "cell_type": "markdown",
   "metadata": {},
   "source": [
    "#### Recursive Channel Insertion (n=1)"
   ]
  },
  {
   "cell_type": "code",
   "execution_count": null,
   "metadata": {},
   "outputs": [],
   "source": [
    "# scaledx_train2.shape\n",
    "# Verify for more number of subjects\n",
    "# Same features. Tune classifier for more accuracy\n",
    "# Increase features if 2 fails"
   ]
  },
  {
   "cell_type": "code",
   "execution_count": null,
   "metadata": {},
   "outputs": [],
   "source": [
    "# i = 44\n",
    "# selectedChannels_train = scaledx_train2[:,i]\n",
    "# selectedChannels_train = np.reshape(selectedChannels_train, [scaledx_train2.shape[0],-1])\n",
    "# param_distributions={'kernel': ['rbf','linear'], 'C':expon(scale=10),'gamma':expon(scale=10),'degree':[1,2,3,4,5]}\n",
    "# clf = RandomizedSearchCV(SVC(), param_distributions=param_distributions, n_iter=1000,random_state=5,scoring='f1')\n",
    "# clf.fit(selectedChannels_train, y_train);"
   ]
  },
  {
   "cell_type": "code",
   "execution_count": null,
   "metadata": {
    "scrolled": true
   },
   "outputs": [],
   "source": [
    "# acc = []\n",
    "# for i in range(63):\n",
    "#     selectedChannels_train = scaledx_train2[:,i]\n",
    "#     selectedChannels_train = np.reshape(selectedChannels_train, [scaledx_train2.shape[0],-1])\n",
    "#     param_distributions={'kernel': ['rbf','linear'], 'C':expon(scale=10),'gamma':expon(scale=10),'degree':[1,2,3,4,5]}\n",
    "#     clf = RandomizedSearchCV(SVC(), param_distributions=param_distributions, n_iter=1000,random_state=5,scoring='f1')\n",
    "#     clf.fit(selectedChannels_train, y_train);\n",
    "# #     print(clf.best_score_)\n",
    "# #     print(clf.best_estimator_)\n",
    "# #     print(clf.best_params_)\n",
    "\n",
    "#     svmclassifier = svm.SVC(kernel = clf.best_params_['kernel'], C = clf.best_params_['C'], gamma = clf.best_params_['gamma'],degree=clf.best_params_['degree'])\n",
    "#     scores = cross_val_score(svmclassifier, selectedChannels_train, y_train, cv=10)\n",
    "#     acc.append(scores.mean())\n",
    "#     print('Accuracy of {} is {}'.format(i,acc[i]))"
   ]
  },
  {
   "cell_type": "code",
   "execution_count": null,
   "metadata": {},
   "outputs": [],
   "source": [
    "# accuracy =[]\n",
    "# channelNo = []\n",
    "# with open ('accuracy.txt', 'rt') as myfile:\n",
    "#     for myline in myfile:\n",
    "#         txt = myline.split()\n",
    "#         channelNo.append(txt[2])\n",
    "#         accuracy.append(txt[4])\n",
    "# #         print(myline[0:19]) \n",
    "# # print(accuracy)\n",
    "# # print(channelNo)\n",
    "# print('************SORTED*************')\n",
    "# # print(sorted(accuracy))\n",
    "# Z = [x for _,x in sorted(zip(accuracy,channelNo))]\n",
    "# print(Z[-5:])\n",
    "\n",
    "# print(sorted(accuracy)[-5:])\n"
   ]
  },
  {
   "cell_type": "code",
   "execution_count": null,
   "metadata": {},
   "outputs": [],
   "source": [
    "# BestChannel = np.where(acc == np.max(acc))\n",
    "# print(BestChannel[0])\n",
    "# print('Accuracy of Channel {} is {}'.format(BestChannel[0][0],acc[BestChannel[0][0]]))\n",
    "# channel = BestChannel[0][0]\n",
    "# print(channel)\n",
    "# plt.figure()\n",
    "# plt.bar(range(63),acc)"
   ]
  },
  {
   "cell_type": "code",
   "execution_count": 38,
   "metadata": {},
   "outputs": [
    {
     "data": {
      "text/plain": [
       "[17, 49]"
      ]
     },
     "execution_count": 38,
     "metadata": {},
     "output_type": "execute_result"
    }
   ],
   "source": [
    "channels"
   ]
  },
  {
   "cell_type": "code",
   "execution_count": 80,
   "metadata": {},
   "outputs": [
    {
     "data": {
      "text/plain": [
       "(69, 1)"
      ]
     },
     "execution_count": 80,
     "metadata": {},
     "output_type": "execute_result"
    }
   ],
   "source": [
    "scaledx_train2.shape\n",
    "y_train.shape"
   ]
  },
  {
   "cell_type": "code",
   "execution_count": 86,
   "metadata": {},
   "outputs": [],
   "source": [
    "channel=1#(index corresponding to 17)"
   ]
  },
  {
   "cell_type": "code",
   "execution_count": 87,
   "metadata": {},
   "outputs": [
    {
     "name": "stdout",
     "output_type": "stream",
     "text": [
      "Training Accuracy 0.9565476190476192\n"
     ]
    },
    {
     "data": {
      "text/plain": [
       "SVC(C=3.5211464588819035, cache_size=200, class_weight=None, coef0=0.0,\n",
       "    decision_function_shape='ovr', degree=2, gamma=0.841876606297904,\n",
       "    kernel='rbf', max_iter=-1, probability=False, random_state=None,\n",
       "    shrinking=True, tol=0.001, verbose=False)"
      ]
     },
     "execution_count": 87,
     "metadata": {},
     "output_type": "execute_result"
    }
   ],
   "source": [
    "# channel = [17,15]\n",
    "\n",
    "selectedChannels_train = scaledx_train2[:,channel]\n",
    "selectedChannels_train = np.reshape(selectedChannels_train, [scaledx_train2.shape[0],-1])\n",
    "param_distributions={'kernel': ['rbf','linear'], 'C':expon(scale=10),'gamma':expon(scale=10),'degree':[1,2,3,4,5]}\n",
    "clf = RandomizedSearchCV(SVC(), param_distributions=param_distributions, n_iter=1000,random_state=5,scoring='f1')\n",
    "clf.fit(selectedChannels_train, y_train);\n",
    "svmclassifier = svm.SVC(kernel = clf.best_params_['kernel'], C = clf.best_params_['C'], gamma = clf.best_params_['gamma'],degree=clf.best_params_['degree'])\n",
    "scores = cross_val_score(svmclassifier, selectedChannels_train, y_train, cv=10)\n",
    "print(\"Training Accuracy {}\".format(scores.mean()))\n",
    "svmclassifier.fit(selectedChannels_train, y_train)"
   ]
  },
  {
   "cell_type": "markdown",
   "metadata": {},
   "source": [
    "### Preprocess the Test Data"
   ]
  },
  {
   "cell_type": "code",
   "execution_count": 88,
   "metadata": {},
   "outputs": [
    {
     "data": {
      "text/plain": [
       "SVC(C=3.5211464588819035, cache_size=200, class_weight=None, coef0=0.0,\n",
       "    decision_function_shape='ovr', degree=2, gamma=0.841876606297904,\n",
       "    kernel='rbf', max_iter=-1, probability=False, random_state=None,\n",
       "    shrinking=True, tol=0.001, verbose=False)"
      ]
     },
     "execution_count": 88,
     "metadata": {},
     "output_type": "execute_result"
    }
   ],
   "source": [
    "svmclassifier"
   ]
  },
  {
   "cell_type": "code",
   "execution_count": 89,
   "metadata": {},
   "outputs": [
    {
     "data": {
      "text/plain": [
       "(30, 2, 9996)"
      ]
     },
     "execution_count": 89,
     "metadata": {},
     "output_type": "execute_result"
    }
   ],
   "source": [
    "x_test.shape"
   ]
  },
  {
   "cell_type": "code",
   "execution_count": 91,
   "metadata": {
    "scrolled": true
   },
   "outputs": [
    {
     "name": "stdout",
     "output_type": "stream",
     "text": [
      "Test Accuracy 1.0\n",
      "Wall time: 4.99 ms\n"
     ]
    }
   ],
   "source": [
    "%%time\n",
    "# x_testChannel2 = np.zeros((x_test.shape[0]))\n",
    "# print(channel)\n",
    "x_testChannel = signal.filtfilt(b,a,x_test[0:1,channel,:])\n",
    "# print(x_testChannel.shape)\n",
    "x_testChannel2 = np.zeros(x_testChannel.shape)\n",
    "# print(x_testChannel2.shape)\n",
    "x_testChannel2 = beta(x_testChannel ,w)\n",
    "# print(x_testChannel2.shape)\n",
    "scaledx_test= np.zeros(x_testChannel.shape)\n",
    "scaledx_test= scalers[channel].transform(x_testChannel2)\n",
    "# print('st{}'.format(scaledx_test.shape))\n",
    "scaledx_test2 = np.zeros((1,1))\n",
    "# print(scaledx_test2.shape)\n",
    "for i in range(scaledx_test.shape[0]):\n",
    "    inds = np.digitize(scaledx_test[i,:], bins[channel,:])\n",
    "    ent = entropy(inds)\n",
    "    scaledx_test2[i] = ent\n",
    "# print('st2{}'.format(scaledx_test2.shape))       \n",
    "scaledx_test2 = np.reshape(scaledx_test2, [1,1])\n",
    "\n",
    "test_predictions = svmclassifier.predict(scaledx_test2)\n",
    "# print(test_predictions)\n",
    "# print(y_test[0])\n",
    "accuracy = np.mean(test_predictions == y_test[0]) #np.reshape(y_test,scaledx_test2.shape[0])\n",
    "print(\"Test Accuracy {}\".format(accuracy))"
   ]
  },
  {
   "cell_type": "code",
   "execution_count": null,
   "metadata": {},
   "outputs": [],
   "source": []
  },
  {
   "cell_type": "code",
   "execution_count": null,
   "metadata": {},
   "outputs": [],
   "source": [
    "%%time\n",
    "# x_testChannel2 = np.zeros((x_test.shape[0]))\n",
    "print(channel)\n",
    "x_testChannel = signal.filtfilt(b,a,x_test[:,channel,:])\n",
    "print(x_testChannel.shape)\n",
    "x_testChannel2 = np.zeros(x_testChannel.shape)\n",
    "print(x_testChannel2.shape)\n",
    "for i,_ in enumerate(channel):\n",
    "    x_testChannel2[:,i,:] = beta(x_testChannel[:,i,:] ,w)\n",
    "print(x_testChannel2.shape)\n",
    "scaledx_test= np.zeros(x_testChannel.shape)\n",
    "for k,i in enumerate(channel):\n",
    "    scaledx_test[:,k,:] = scalers[i].transform(x_testChannel2[:,k,:])\n",
    "\n",
    "scaledx_test2 = np.zeros((x_testChannel.shape[0],x_testChannel.shape[1]))\n",
    "print(scaledx_test2.shape)\n",
    "for i in range(scaledx_test.shape[0]):\n",
    "    for k,j in enumerate(channel):\n",
    "        inds = np.digitize(scaledx_test[i,k,:], bins[j,:])\n",
    "        ent = entropy(inds)\n",
    "        scaledx_test2[i,k] = ent\n",
    "        \n",
    "scaledx_test2 = np.reshape(scaledx_test2, [x_test.shape[0],2])\n",
    "test_predictions = svmclassifier.predict(scaledx_test2)\n",
    "accuracy = np.mean(test_predictions == np.reshape(y_test,scaledx_test2.shape[0]))\n",
    "print(\"Test Accuracy {}\".format(accuracy))\n"
   ]
  },
  {
   "cell_type": "markdown",
   "metadata": {},
   "source": [
    "##### With Best Channel No. 2"
   ]
  },
  {
   "cell_type": "code",
   "execution_count": null,
   "metadata": {},
   "outputs": [],
   "source": [
    "channel = BestChannel[0][1]\n",
    "print(channel)\n",
    "selectedChannels_train = scaledx_train2[:,BestChannel[0][1]]\n",
    "selectedChannels_train = np.reshape(selectedChannels_train, [scaledx_train2.shape[0],-1])\n",
    "param_distributions={'kernel': ['rbf','linear'], 'C':expon(scale=10),'gamma':expon(scale=10),'degree':[1,2,3,4,5]}\n",
    "clf = RandomizedSearchCV(SVC(), param_distributions=param_distributions, n_iter=1000,random_state=5,scoring='f1')\n",
    "clf.fit(selectedChannels_train, y_train);\n",
    "svmclassifier = svm.SVC(kernel = clf.best_params_['kernel'], C = clf.best_params_['C'], gamma = clf.best_params_['gamma'],degree=clf.best_params_['degree'])\n",
    "scores = cross_val_score(svmclassifier, selectedChannels_train, y_train, cv=10)\n",
    "print(\"Training Accuracy {}\".format(scores.mean()))\n",
    "svmclassifier.fit(selectedChannels_train, y_train)"
   ]
  },
  {
   "cell_type": "code",
   "execution_count": null,
   "metadata": {},
   "outputs": [],
   "source": [
    "%%time\n",
    "x_testChannel2 = np.zeros((x_test.shape[0]))\n",
    "x_testChannel = signal.filtfilt(b,a,x_test[:,channel,:])\n",
    "x_testChannel2 = beta(x_test[:,channel],w)\n",
    "scaledx_test = scalers[channel].transform(x_testChannel2)\n",
    "scaledx_test2 = np.zeros((x_test.shape[0]))\n",
    "for i in range(scaledx_test.shape[0]):\n",
    "    inds = np.digitize(scaledx_test[i,:], bins[channel,:])\n",
    "    ent = entropy(inds)\n",
    "    scaledx_test2[i] = ent\n",
    "scaledx_test2 = np.reshape(scaledx_test2, [x_test.shape[0],1])\n",
    "test_predictions = svmclassifier.predict(scaledx_test2)\n",
    "accuracy = np.mean(test_predictions == np.reshape(y_test,scaledx_test2.shape[0]))\n",
    "print(\"Test Accuracy {}\".format(accuracy))\n"
   ]
  },
  {
   "cell_type": "code",
   "execution_count": null,
   "metadata": {},
   "outputs": [],
   "source": [
    "x_train.shape"
   ]
  },
  {
   "cell_type": "code",
   "execution_count": null,
   "metadata": {},
   "outputs": [],
   "source": []
  }
 ],
 "metadata": {
  "kernelspec": {
   "display_name": "Python 3",
   "language": "python",
   "name": "python3"
  },
  "language_info": {
   "codemirror_mode": {
    "name": "ipython",
    "version": 3
   },
   "file_extension": ".py",
   "mimetype": "text/x-python",
   "name": "python",
   "nbconvert_exporter": "python",
   "pygments_lexer": "ipython3",
   "version": "3.7.3"
  }
 },
 "nbformat": 4,
 "nbformat_minor": 2
}
